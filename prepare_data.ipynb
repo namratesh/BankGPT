{
 "cells": [
  {
   "cell_type": "code",
   "execution_count": 12,
   "metadata": {},
   "outputs": [
    {
     "data": {
      "text/plain": [
       "True"
      ]
     },
     "execution_count": 12,
     "metadata": {},
     "output_type": "execute_result"
    }
   ],
   "source": [
    "import os\n",
    "from unstructured.partition.pdf import partition_pdf\n",
    "import json\n",
    "from typing import Dict\n",
    "from dotenv import load_dotenv\n",
    "from tqdm import tqdm\n",
    "load_dotenv()"
   ]
  },
  {
   "cell_type": "code",
   "execution_count": 13,
   "metadata": {},
   "outputs": [
    {
     "data": {
      "text/plain": [
       "['dataset/pdfs/sbi.pdf', 'dataset/pdfs/icici.pdf', 'dataset/pdfs/HDFC.pdf']"
      ]
     },
     "execution_count": 13,
     "metadata": {},
     "output_type": "execute_result"
    }
   ],
   "source": [
    "\n",
    "dataset_path = \"dataset/pdfs\"\n",
    "datasets = [os.path.join(dataset_path, i) for i in os.listdir(dataset_path) if i.endswith(\".pdf\")]\n",
    "datasets"
   ]
  },
  {
   "cell_type": "code",
   "execution_count": 14,
   "metadata": {},
   "outputs": [],
   "source": [
    "def extract_pdf_text_by_page(pdf_path: str) -> dict:\n",
    "    \"\"\"\n",
    "    Extracts text from a PDF file page by page using Unstructured's partition_pdf.\n",
    "\n",
    "    Args:\n",
    "        pdf_path (str): Full path to the PDF file.\n",
    "\n",
    "    Returns:\n",
    "        dict: A dictionary where keys are page numbers (int) and values are strings of extracted text.\n",
    "\n",
    "    Raises:\n",
    "        FileNotFoundError: If the provided file path does not exist.\n",
    "        ValueError: If extraction fails or no elements are returned.\n",
    "        Exception: For any other unexpected errors.\n",
    "    \"\"\"\n",
    "    import os\n",
    "\n",
    "    if not os.path.exists(pdf_path):\n",
    "        raise FileNotFoundError(f\"File not found: {pdf_path}\")\n",
    "\n",
    "    try:\n",
    "        elements = partition_pdf(\n",
    "            filename=pdf_path,\n",
    "            strategy=os.getenv(\"strategy\") ,# faster, less accurate (use \"hi_res\" for better layout)\n",
    "            infer_table_structure=os.getenv(\"infer_table_structure\")\n",
    "        )\n",
    "        if not elements:\n",
    "            raise ValueError(f\"No extractable content found in {pdf_path}\")\n",
    "\n",
    "        pagewise_text = {}\n",
    "\n",
    "        for el in elements:\n",
    "            page_num = el.metadata.page_number or 0\n",
    "\n",
    "            if page_num not in pagewise_text:\n",
    "                pagewise_text[page_num] = []\n",
    "\n",
    "            if el.text:\n",
    "                clean_text = el.text.strip()\n",
    "                if clean_text:  # skip empty lines\n",
    "                    pagewise_text[page_num].append(clean_text)\n",
    "\n",
    "        # Convert list of lines per page to single string\n",
    "        return {\n",
    "            page: \"\\n\".join(lines)\n",
    "            for page, lines in sorted(pagewise_text.items())\n",
    "        }\n",
    "\n",
    "    except Exception as e:\n",
    "        raise Exception(f\"Failed to extract text from {pdf_path}: {str(e)}\")\n",
    "    \n",
    "    \n",
    "\n",
    "\n",
    "def create_json(file_path: str, year: int, company: str, data: Dict[int, str]) -> str:\n",
    "    \"\"\"\n",
    "    Creates a structured JSON file from page-wise extracted PDF text.\n",
    "\n",
    "    Args:\n",
    "        file_path (str): Path to the original PDF file.\n",
    "        year (int): The year associated with the document.\n",
    "        company (str): The company name associated with the document.\n",
    "        data (Dict[int, str]): Dictionary mapping page numbers to text content.\n",
    "\n",
    "    Returns:\n",
    "        str: Path to the saved JSON file.\n",
    "\n",
    "    Raises:\n",
    "        ValueError: If data is not a dictionary or contains invalid content.\n",
    "        Exception: For any file writing or JSON serialization errors.\n",
    "    \"\"\"\n",
    "    if not isinstance(data, dict):\n",
    "        raise ValueError(\"Expected `data` to be a dictionary of page_num -> text\")\n",
    "\n",
    "    try:\n",
    "        final_text = []\n",
    "        for page_num, text in data.items():\n",
    "            if not isinstance(page_num, int):\n",
    "                raise ValueError(f\"Invalid page number: {page_num}\")\n",
    "            if not isinstance(text, str):\n",
    "                raise ValueError(f\"Invalid text for page {page_num}\")\n",
    "            final_text.append({\n",
    "                \"page_num\": page_num,\n",
    "                \"content\": text,\n",
    "                \"year\": year,\n",
    "                \"company\": company\n",
    "            })\n",
    "\n",
    "        # Create output directory if it doesn't exist\n",
    "        output_dir = \"dataset/json\"\n",
    "        os.makedirs(output_dir, exist_ok=True)\n",
    "\n",
    "        # Build JSON file name from original PDF name\n",
    "        output_path = os.path.join(\n",
    "            output_dir,\n",
    "            f\"{os.path.basename(file_path).split('.')[0]}.json\"\n",
    "        )\n",
    "\n",
    "        # Write to file\n",
    "        with open(output_path, \"w\", encoding=\"utf-8\") as f:\n",
    "            json.dump(final_text, f, indent=4, ensure_ascii=False)\n",
    "\n",
    "        print(f\"✅ JSON saved to: {output_path}\")\n",
    "        return output_path\n",
    "\n",
    "    except Exception as e:\n",
    "        raise Exception(f\"Failed to write JSON for {file_path}: {str(e)}\")\n",
    "\n",
    "\n",
    "\n",
    "def process_pdfs(datasets, year=2024):\n",
    "    for path in tqdm(datasets):\n",
    "        data = extract_pdf_text_by_page(path)\n",
    "        company_name = os.path.basename(path).split(\".\")[0]\n",
    "        create_json(path, year, company_name, data)\n",
    "        "
   ]
  },
  {
   "cell_type": "code",
   "execution_count": 15,
   "metadata": {},
   "outputs": [
    {
     "name": "stderr",
     "output_type": "stream",
     "text": [
      " 33%|███▎      | 1/3 [01:18<02:37, 78.99s/it]"
     ]
    },
    {
     "name": "stdout",
     "output_type": "stream",
     "text": [
      "✅ JSON saved to: dataset/json/sbi.json\n"
     ]
    },
    {
     "name": "stderr",
     "output_type": "stream",
     "text": [
      " 67%|██████▋   | 2/3 [02:31<01:15, 75.11s/it]"
     ]
    },
    {
     "name": "stdout",
     "output_type": "stream",
     "text": [
      "✅ JSON saved to: dataset/json/icici.json\n"
     ]
    },
    {
     "name": "stderr",
     "output_type": "stream",
     "text": [
      "100%|██████████| 3/3 [03:26<00:00, 68.76s/it]"
     ]
    },
    {
     "name": "stdout",
     "output_type": "stream",
     "text": [
      "✅ JSON saved to: dataset/json/HDFC.json\n"
     ]
    },
    {
     "name": "stderr",
     "output_type": "stream",
     "text": [
      "\n"
     ]
    }
   ],
   "source": [
    "\n",
    "        \n",
    "process_pdfs(datasets)\n"
   ]
  },
  {
   "cell_type": "markdown",
   "metadata": {},
   "source": [
    "# cleaning data"
   ]
  },
  {
   "cell_type": "code",
   "execution_count": 3,
   "metadata": {},
   "outputs": [
    {
     "data": {
      "text/plain": [
       "['dataset/json/icici_2024.json',\n",
       " 'dataset/json/sbi_2024.json',\n",
       " 'dataset/json/HDFC_2024.json']"
      ]
     },
     "execution_count": 3,
     "metadata": {},
     "output_type": "execute_result"
    }
   ],
   "source": [
    "import os \n",
    "dataset_path = \"dataset/json\"\n",
    "datasets = [os.path.join(dataset_path, i) for i in os.listdir(dataset_path) if i.endswith(\".json\")]\n",
    "datasets"
   ]
  },
  {
   "cell_type": "code",
   "execution_count": 7,
   "metadata": {},
   "outputs": [
    {
     "name": "stderr",
     "output_type": "stream",
     "text": [
      "100%|██████████| 3/3 [00:00<00:00,  8.85it/s]\n"
     ]
    }
   ],
   "source": [
    "import re\n",
    "\n",
    "def clean_pdf_json_content(data: list) -> list:\n",
    "    def clean_text(text: str) -> str:\n",
    "        text = re.sub(r'-\\n(\\w+)', r'\\1', text)                     # Fix hyphenated words\n",
    "        text = re.sub(r'[ ]{2,}', ' ', text)                        # Collapse multiple spaces\n",
    "        text = re.sub(r'[─═╚╩╝╔╦╗╠╣╬]+', '', text)                  # Remove table borders\n",
    "        text = re.sub(r'^\\s*(Page|PAGE)?\\s*\\d+\\s*$', '', text, flags=re.MULTILINE)  # Remove page numbers\n",
    "        text = re.sub(r'\\n{2,}', '\\n', text)                        # Remove excessive line breaks\n",
    "        text = re.sub(r'\\s+', ' ', text)                            # Normalize whitespace\n",
    "        return text.strip()\n",
    "    \n",
    "    for item in data:\n",
    "        if 'content' in item and isinstance(item['content'], str):\n",
    "            item['clean_content'] = clean_text(item['content'])\n",
    "    \n",
    "    return data\n",
    "\n",
    "\n",
    "import json\n",
    "from tqdm import tqdm\n",
    "for files in tqdm(datasets):\n",
    "    with open(files, 'r') as f:\n",
    "        data = json.load(f)\n",
    "\n",
    "    updated_data = clean_pdf_json_content(data)\n",
    "\n",
    "    with open(files, 'w') as f:\n",
    "        json.dump(updated_data, f, indent=2)\n",
    "\n"
   ]
  },
  {
   "cell_type": "code",
   "execution_count": null,
   "metadata": {},
   "outputs": [],
   "source": []
  }
 ],
 "metadata": {
  "kernelspec": {
   "display_name": "projects",
   "language": "python",
   "name": "python3"
  },
  "language_info": {
   "codemirror_mode": {
    "name": "ipython",
    "version": 3
   },
   "file_extension": ".py",
   "mimetype": "text/x-python",
   "name": "python",
   "nbconvert_exporter": "python",
   "pygments_lexer": "ipython3",
   "version": "3.10.16"
  }
 },
 "nbformat": 4,
 "nbformat_minor": 2
}
