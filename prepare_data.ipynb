{
 "cells": [
  {
   "cell_type": "code",
   "execution_count": 10,
   "metadata": {},
   "outputs": [
    {
     "data": {
      "text/plain": [
       "True"
      ]
     },
     "execution_count": 10,
     "metadata": {},
     "output_type": "execute_result"
    }
   ],
   "source": [
    "import os\n",
    "from unstructured.partition.pdf import partition_pdf\n",
    "import json\n",
    "from typing import Dict\n",
    "from dotenv import load_dotenv\n",
    "load_dotenv()\n",
    "from tqdm import tqdm\n",
    "load_dotenv()"
   ]
  },
  {
   "cell_type": "code",
   "execution_count": 13,
   "metadata": {},
   "outputs": [
    {
     "data": {
      "text/plain": [
       "['dataset/pdfs/sbi.pdf', 'dataset/pdfs/icici.pdf', 'dataset/pdfs/HDFC.pdf']"
      ]
     },
     "execution_count": 13,
     "metadata": {},
     "output_type": "execute_result"
    }
   ],
   "source": [
    "\n",
    "dataset_path = \"dataset/pdfs\"\n",
    "datasets = [os.path.join(dataset_path, i) for i in os.listdir(dataset_path) if i.endswith(\".pdf\")]\n",
    "datasets"
   ]
  },
  {
   "cell_type": "code",
   "execution_count": 14,
   "metadata": {},
   "outputs": [],
   "source": [
    "def extract_pdf_text_by_page(pdf_path: str) -> dict:\n",
    "    \"\"\"\n",
    "    Extracts text from a PDF file page by page using Unstructured's partition_pdf.\n",
    "\n",
    "    Args:\n",
    "        pdf_path (str): Full path to the PDF file.\n",
    "\n",
    "    Returns:\n",
    "        dict: A dictionary where keys are page numbers (int) and values are strings of extracted text.\n",
    "\n",
    "    Raises:\n",
    "        FileNotFoundError: If the provided file path does not exist.\n",
    "        ValueError: If extraction fails or no elements are returned.\n",
    "        Exception: For any other unexpected errors.\n",
    "    \"\"\"\n",
    "    import os\n",
    "\n",
    "    if not os.path.exists(pdf_path):\n",
    "        raise FileNotFoundError(f\"File not found: {pdf_path}\")\n",
    "\n",
    "    try:\n",
    "        elements = partition_pdf(\n",
    "            filename=pdf_path,\n",
    "            strategy=os.getenv(\"strategy\") ,# faster, less accurate (use \"hi_res\" for better layout)\n",
    "            infer_table_structure=os.getenv(\"infer_table_structure\")\n",
    "        )\n",
    "        if not elements:\n",
    "            raise ValueError(f\"No extractable content found in {pdf_path}\")\n",
    "\n",
    "        pagewise_text = {}\n",
    "\n",
    "        for el in elements:\n",
    "            page_num = el.metadata.page_number or 0\n",
    "\n",
    "            if page_num not in pagewise_text:\n",
    "                pagewise_text[page_num] = []\n",
    "\n",
    "            if el.text:\n",
    "                clean_text = el.text.strip()\n",
    "                if clean_text:  # skip empty lines\n",
    "                    pagewise_text[page_num].append(clean_text)\n",
    "\n",
    "        # Convert list of lines per page to single string\n",
    "        return {\n",
    "            page: \"\\n\".join(lines)\n",
    "            for page, lines in sorted(pagewise_text.items())\n",
    "        }\n",
    "\n",
    "    except Exception as e:\n",
    "        raise Exception(f\"Failed to extract text from {pdf_path}: {str(e)}\")\n",
    "    \n",
    "    \n",
    "\n",
    "\n",
    "def create_json(file_path: str, year: int, company: str, data: Dict[int, str]) -> str:\n",
    "    \"\"\"\n",
    "    Creates a structured JSON file from page-wise extracted PDF text.\n",
    "\n",
    "    Args:\n",
    "        file_path (str): Path to the original PDF file.\n",
    "        year (int): The year associated with the document.\n",
    "        company (str): The company name associated with the document.\n",
    "        data (Dict[int, str]): Dictionary mapping page numbers to text content.\n",
    "\n",
    "    Returns:\n",
    "        str: Path to the saved JSON file.\n",
    "\n",
    "    Raises:\n",
    "        ValueError: If data is not a dictionary or contains invalid content.\n",
    "        Exception: For any file writing or JSON serialization errors.\n",
    "    \"\"\"\n",
    "    if not isinstance(data, dict):\n",
    "        raise ValueError(\"Expected `data` to be a dictionary of page_num -> text\")\n",
    "\n",
    "    try:\n",
    "        final_text = []\n",
    "        for page_num, text in data.items():\n",
    "            if not isinstance(page_num, int):\n",
    "                raise ValueError(f\"Invalid page number: {page_num}\")\n",
    "            if not isinstance(text, str):\n",
    "                raise ValueError(f\"Invalid text for page {page_num}\")\n",
    "            final_text.append({\n",
    "                \"page_num\": page_num,\n",
    "                \"content\": text,\n",
    "                \"year\": year,\n",
    "                \"company\": company\n",
    "            })\n",
    "\n",
    "        # Create output directory if it doesn't exist\n",
    "        output_dir = \"dataset/json\"\n",
    "        os.makedirs(output_dir, exist_ok=True)\n",
    "\n",
    "        # Build JSON file name from original PDF name\n",
    "        output_path = os.path.join(\n",
    "            output_dir,\n",
    "            f\"{os.path.basename(file_path).split('.')[0]}.json\"\n",
    "        )\n",
    "\n",
    "        # Write to file\n",
    "        with open(output_path, \"w\", encoding=\"utf-8\") as f:\n",
    "            json.dump(final_text, f, indent=4, ensure_ascii=False)\n",
    "\n",
    "        print(f\"✅ JSON saved to: {output_path}\")\n",
    "        return output_path\n",
    "\n",
    "    except Exception as e:\n",
    "        raise Exception(f\"Failed to write JSON for {file_path}: {str(e)}\")\n",
    "\n",
    "\n",
    "\n",
    "def process_pdfs(datasets, year=2024):\n",
    "    for path in tqdm(datasets):\n",
    "        data = extract_pdf_text_by_page(path)\n",
    "        company_name = os.path.basename(path).split(\".\")[0]\n",
    "        create_json(path, year, company_name, data)\n",
    "        "
   ]
  },
  {
   "cell_type": "code",
   "execution_count": 15,
   "metadata": {},
   "outputs": [
    {
     "name": "stderr",
     "output_type": "stream",
     "text": [
      " 33%|███▎      | 1/3 [01:18<02:37, 78.99s/it]"
     ]
    },
    {
     "name": "stdout",
     "output_type": "stream",
     "text": [
      "✅ JSON saved to: dataset/json/sbi.json\n"
     ]
    },
    {
     "name": "stderr",
     "output_type": "stream",
     "text": [
      " 67%|██████▋   | 2/3 [02:31<01:15, 75.11s/it]"
     ]
    },
    {
     "name": "stdout",
     "output_type": "stream",
     "text": [
      "✅ JSON saved to: dataset/json/icici.json\n"
     ]
    },
    {
     "name": "stderr",
     "output_type": "stream",
     "text": [
      "100%|██████████| 3/3 [03:26<00:00, 68.76s/it]"
     ]
    },
    {
     "name": "stdout",
     "output_type": "stream",
     "text": [
      "✅ JSON saved to: dataset/json/HDFC.json\n"
     ]
    },
    {
     "name": "stderr",
     "output_type": "stream",
     "text": [
      "\n"
     ]
    }
   ],
   "source": [
    "\n",
    "        \n",
    "process_pdfs(datasets)\n"
   ]
  },
  {
   "cell_type": "markdown",
   "metadata": {},
   "source": [
    "# cleaning data"
   ]
  },
  {
   "cell_type": "code",
   "execution_count": 5,
   "metadata": {},
   "outputs": [
    {
     "data": {
      "text/plain": [
       "['dataset/json/icici_2024.json',\n",
       " 'dataset/json/sbi_2024.json',\n",
       " 'dataset/json/HDFC_2024.json']"
      ]
     },
     "execution_count": 5,
     "metadata": {},
     "output_type": "execute_result"
    }
   ],
   "source": [
    "import os \n",
    "dataset_path = \"dataset/json\"\n",
    "datasets = [os.path.join(dataset_path, i) for i in os.listdir(dataset_path) if i.endswith(\".json\")]\n",
    "datasets"
   ]
  },
  {
   "cell_type": "code",
   "execution_count": 8,
   "metadata": {},
   "outputs": [
    {
     "name": "stderr",
     "output_type": "stream",
     "text": [
      "100%|██████████| 3/3 [00:00<00:00,  8.97it/s]\n"
     ]
    }
   ],
   "source": [
    "import re\n",
    "\n",
    "import re\n",
    "\n",
    "def clean_pdf_json_content(data: list) -> list:\n",
    "    \"\"\"\n",
    "    Cleans the 'content' field in a list of dictionaries extracted from PDFs\n",
    "    and adds a new key 'clean_content' with the cleaned version.\n",
    "\n",
    "    Cleaning operations include:\n",
    "    - Removing hyphenated line breaks\n",
    "    - Collapsing multiple spaces\n",
    "    - Stripping table borders\n",
    "    - Removing page numbers\n",
    "    - Normalizing whitespace\n",
    "\n",
    "    Parameters:\n",
    "        data (list): List of dictionaries, each expected to have a 'content' key with string value.\n",
    "\n",
    "    Returns:\n",
    "        list: The same list with an additional 'clean_content' key in each dictionary.\n",
    "    \"\"\"\n",
    "    def clean_text(text: str) -> str:\n",
    "        text = re.sub(r'-\\n(\\w+)', r'\\1', text)                     # Fix hyphenated words\n",
    "        text = re.sub(r'[ ]{2,}', ' ', text)                        # Collapse multiple spaces\n",
    "        text = re.sub(r'[─═╚╩╝╔╦╗╠╣╬]+', '', text)                  # Remove table borders\n",
    "        text = re.sub(r'^\\s*(Page|PAGE)?\\s*\\d+\\s*$', '', text, flags=re.MULTILINE)  # Remove page numbers\n",
    "        text = re.sub(r'\\n{2,}', '\\n', text)                        # Remove excessive line breaks\n",
    "        text = re.sub(r'\\s+', ' ', text)                            # Normalize whitespace\n",
    "        return text.strip()\n",
    "    \n",
    "    for idx, item in enumerate(data):\n",
    "        try:\n",
    "            if 'content' in item and isinstance(item['content'], str):\n",
    "                item['clean_content'] = clean_text(item['content'])\n",
    "            else:\n",
    "                print(f\"[WARN] Skipping index {idx}: Missing or non-string 'content'\")\n",
    "        except Exception as e:\n",
    "            print(f\"[ERROR] Failed to process index {idx}: {e}\")\n",
    "\n",
    "    return data\n",
    "\n",
    "\n",
    "\n",
    "import json\n",
    "from tqdm import tqdm\n",
    "for files in tqdm(datasets):\n",
    "    with open(files, 'r') as f:\n",
    "        data = json.load(f)\n",
    "\n",
    "    updated_data = clean_pdf_json_content(data)\n",
    "\n",
    "    with open(files, 'w') as f:\n",
    "        json.dump(updated_data, f, indent=2)\n",
    "\n"
   ]
  },
  {
   "cell_type": "code",
   "execution_count": 5,
   "metadata": {},
   "outputs": [
    {
     "name": "stdout",
     "output_type": "stream",
     "text": [
      "summary='HDFC Bank Limited is scheduled to hold its 30th Annual General Meeting on August 9, 2024. The meeting will be conducted via video conferencing and will include several business matters such as adopting audited financial statements, considering dividend declarations, appointing directors, and selecting statutory auditors. Batliboi & Purohit and Price Waterhouse LLP have been appointed as joint statutory auditors for a three-year term starting from FY 2024-25. The meeting will also consider resolutions related to these appointments.'\n"
     ]
    }
   ],
   "source": [
    "import os\n",
    "from langchain_openai import ChatOpenAI\n",
    "from pydantic import BaseModel, Field\n",
    "from langchain_core.prompts import ChatPromptTemplate\n",
    "from dotenv import load_dotenv\n",
    "load_dotenv()\n",
    "\n",
    "class SummaryOutput(BaseModel):\n",
    "    \"\"\"Structured output format for the summarizer.\"\"\"\n",
    "    summary: str = Field(..., description=\"Concise summary of the input content.\")\n",
    "\n",
    "# Setup LLM with structured output\n",
    "llm = ChatOpenAI(\n",
    "    model=os.getenv(\"model_name\"),\n",
    "    base_url=os.getenv(\"base_url\"),\n",
    "    api_key=os.getenv(\"OPENAI_API_KEY\"),\n",
    "    temperature=float(os.getenv(\"TEMPERATURE\", 0))\n",
    ").with_structured_output(SummaryOutput)\n",
    "\n",
    "# System message prompt with an input variable\n",
    "system_prompt = \"\"\"You are a precise and concise summarization agent.\n",
    "\n",
    "Your goal is to summarize **any kind of text** — whether it’s a formal financial report, business update, meeting note, press release, or generic content. Your summaries should always be crisp, context-aware, and free of filler.\n",
    "\n",
    "Rules:\n",
    "1. If the input includes numbers (financial data, metrics, dates, percentages), **include them exactly** in the summary.\n",
    "2. If the input contains financial insights, strategy, risks, or leadership commentary — **highlight those clearly**.\n",
    "3. If the input is administrative or doesn't contain meaningful content, return:\n",
    "   {{ \"summary\": \"No substantive content available to summarize.\" }}\n",
    "4. Do NOT infer or fabricate numbers, people, or insights that are not clearly present.\n",
    "5. Always respond ONLY in the following JSON format:\n",
    "   {{ \"summary\": \"...\" }}\n",
    "\"\"\"\n",
    "\n",
    "prompt = ChatPromptTemplate.from_messages([\n",
    "    (\"system\", system_prompt),\n",
    "    (\"human\", \"{input_text}\")  # Add human input block here\n",
    "])\n",
    "\n",
    "input_text = \"\"\"HDFC BANK LIMITED Registered Office: HDFC Bank House, Senapati Bapat Marg, Lower Parel (W), Mumbai 400 013. [CIN: L65920MH1994PLC080618] [E-Mail: shareholder.grievances@hdfcbank.com] [Website: www.hdfcbank.com] [Tel. Nos.: 022 6631 6000] NOTICE IS HEREBY GIVEN THAT THE THIRTIETH (30TH) ANNUAL GENERAL MEETING (AGM) OF THE MEMBERS OF HDFC BANK LIMITED (THE “BANK”) WILL BE HELD ON FRIDAY, AUGUST 9, 2024 AT 02:30 P.M. INDIAN STANDARD TIME (“IST”). THE AGM SHALL BE HELD BY MEANS OF VIDEO CONFERENCING (“VC”) / OTHER AUDIO-VISUAL MEANS (“OAVM”) IN ACCORDANCE WITH THE RELEVANT CIRCULARS ISSUED BY THE MINISTRY OF CORPORATE AFFAIRS, TO TRANSACT THE FOLLOWING BUSINESS: ORDINARY BUSINESS: 1. To receive, consider and adopt the audited financial statements (standalone) of the Bank for the financial year ended March 31, 2024 along with the Reports of the Board of Directors and Auditors thereon. 2. To receive, consider and adopt the audited financial statements (consolidated) of the Bank for the financial year ended March 31, 2024 along with the Report of Auditors thereon. 3. To consider declaration of dividend on Equity Shares. 4. To appoint a Director in place of Mr. Bhavesh Zaveri (DIN: 01550468), who retires by rotation and being eligible, offers himself for re-appointment. rules made thereunder and pursuant to Section 30 of the Banking Regulation Act, 1949 and the guidelines for Appointment of Statutory Central Auditors (SCAs)/ Statutory Auditors (SAs) of Commercial Banks (excluding RRBs), UCBs and NBFCs (including HFCs) dated April 27, 2021 (“Guidelines”) issued by the Reserve Bank of India (RBI) including any amendments, modifications, variations or re-enactments thereof (collectively “Applicable Laws”) and pursuant to the approval of the RBI dated May 30, 2024, M/s. Batliboi & Purohit, Chartered Accountants, (ICAI Firm Registration No. 101048W) (“Batliboi & Purohit”), who have offered themselves for appointment and have confirmed their eligibility to be appointed as one of the Joint Statutory Auditors in terms of Section 141 of the Act and applicable rules made thereunder and the Guidelines, be and are hereby appointed as one of the Joint Statutory Auditors of the Bank, to hold office for a period of 3 (three) years with effect from FY 2024-25 till and including FY 2026-27, subject to the approval of the RBI as and when required during this tenure, for the purpose of audit including reporting on internal financial controls of the Bank’s accounts at its head office, branches and other offices, with power to the Board of Directors (hereinafter referred to as the “Board”, which term shall be deemed to include any Committee(s) of the Board or any other persons to whom powers are delegated by the Board as permitted under the Act and/or rules made thereunder), to alter and vary the terms and conditions of appointment, and such other things including but not limited to reason of necessity on account of conditions as may be stipulated by the RBI and / or any other authority. 5. To appoint a director in place of Mr. Keki Mistry (DIN: 00008886), who retires by rotation and, being eligible, offers himself for re-appointment. 6. To appoint M/s. Batliboi & Purohit, Chartered Accountants as Joint Statutory Auditors and to fix the overall remuneration of the Joint Statutory Auditors and in this regard, to consider and if thought fit, to pass, the following resolution, as an Ordinary Resolution: “RESOLVED THAT, pursuant to the provisions of Sections 139, 141 and other applicable provisions, if any, of the Companies Act, 2013 (the “Act”) and the relevant RESOLVED FURTHER THAT subject to applicable laws and regulations including the relevant Guidelines and circulars of the RBI (as may be amended, restated, modified or, replaced from time to time) and pursuant to approval of the RBI in this regard received on May 30, 2024, M/s. Price Waterhouse LLP, Chartered Accountants (ICAI Firm Registration No. 301112E/ E300264) (‘Price Waterhouse LLP’) who were already appointed as one of the Joint Statutory Auditors of the Bank at the 28th 0 1\"\"\"\n",
    "\n",
    "# Build and run the chain\n",
    "chain = prompt | llm\n",
    "response = chain.invoke({\"input_text\": input_text})\n",
    "\n",
    "# Output\n",
    "print(response)  # Since response is now a Pydantic model (SummaryOutput), no `.choices[0]` needed\n"
   ]
  },
  {
   "cell_type": "code",
   "execution_count": 2,
   "metadata": {},
   "outputs": [
    {
     "name": "stdout",
     "output_type": "stream",
     "text": [
      "summary=\"HDFC Bank Limited's 30th Annual General Meeting (AGM) will be held on Friday, August 9, 2024, at 02:30 PM IST via video conferencing. Key agenda items include adopting audited financial statements for FY 2024, declaring dividend on equity shares, appointing a director in place of Mr. Bhavesh Zaveri and Mr. Keki Mistry, and appointing M/s. Batliboi & Purohit as Joint Statutory Auditors with an overall remuneration to be determined.\"\n"
     ]
    }
   ],
   "source": [
    "import os\n",
    "from langchain_openai import ChatOpenAI\n",
    "from pydantic import BaseModel, Field\n",
    "from langchain_core.prompts import ChatPromptTemplate\n",
    "from dotenv import load_dotenv\n",
    "load_dotenv()\n",
    "\n",
    "class SummaryOutput(BaseModel):\n",
    "    \"\"\"Structured output format for the summarizer.\"\"\"\n",
    "    summary: str = Field(..., description=\"Concise summary of the input content.\")\n",
    "\n",
    "# Setup LLM with structured output\n",
    "llm = ChatOpenAI(\n",
    "    model=\"llama3.2\",\n",
    "    base_url=os.getenv(\"base_url\"),\n",
    "    api_key=os.getenv(\"OPENAI_API_KEY\"),\n",
    "    temperature=float(os.getenv(\"TEMPERATURE\", 0))\n",
    ").with_structured_output(SummaryOutput)\n",
    "\n",
    "# System message prompt with an input variable\n",
    "system_prompt = \"\"\"You are a precise and concise summarization agent.\n",
    "\n",
    "Your goal is to summarize **any kind of text** — whether it’s a formal financial report, business update, meeting note, press release, or generic content. Your summaries should always be crisp, context-aware, and free of filler.\n",
    "\n",
    "Rules:\n",
    "1. If the input includes numbers (financial data, metrics, dates, percentages), **include them exactly** in the summary.\n",
    "2. If the input contains financial insights, strategy, risks, or leadership commentary — **highlight those clearly**.\n",
    "3. If the input is administrative or doesn't contain meaningful content, return:\n",
    "   {{ \"summary\": \"No substantive content available to summarize.\" }}\n",
    "4. Do NOT infer or fabricate numbers, people, or insights that are not clearly present.\n",
    "5. Always respond ONLY in the following JSON format:\n",
    "   {{ \"summary\": \"...\" }}\n",
    "\"\"\"\n",
    "\n",
    "prompt = ChatPromptTemplate.from_messages([\n",
    "    (\"system\", system_prompt),\n",
    "    (\"human\", \"{input_text}\")  # Add human input block here\n",
    "])\n",
    "\n",
    "input_text = \"\"\"HDFC BANK LIMITED Registered Office: HDFC Bank House, Senapati Bapat Marg, Lower Parel (W), Mumbai 400 013. [CIN: L65920MH1994PLC080618] [E-Mail: shareholder.grievances@hdfcbank.com] [Website: www.hdfcbank.com] [Tel. Nos.: 022 6631 6000] NOTICE IS HEREBY GIVEN THAT THE THIRTIETH (30TH) ANNUAL GENERAL MEETING (AGM) OF THE MEMBERS OF HDFC BANK LIMITED (THE “BANK”) WILL BE HELD ON FRIDAY, AUGUST 9, 2024 AT 02:30 P.M. INDIAN STANDARD TIME (“IST”). THE AGM SHALL BE HELD BY MEANS OF VIDEO CONFERENCING (“VC”) / OTHER AUDIO-VISUAL MEANS (“OAVM”) IN ACCORDANCE WITH THE RELEVANT CIRCULARS ISSUED BY THE MINISTRY OF CORPORATE AFFAIRS, TO TRANSACT THE FOLLOWING BUSINESS: ORDINARY BUSINESS: 1. To receive, consider and adopt the audited financial statements (standalone) of the Bank for the financial year ended March 31, 2024 along with the Reports of the Board of Directors and Auditors thereon. 2. To receive, consider and adopt the audited financial statements (consolidated) of the Bank for the financial year ended March 31, 2024 along with the Report of Auditors thereon. 3. To consider declaration of dividend on Equity Shares. 4. To appoint a Director in place of Mr. Bhavesh Zaveri (DIN: 01550468), who retires by rotation and being eligible, offers himself for re-appointment. rules made thereunder and pursuant to Section 30 of the Banking Regulation Act, 1949 and the guidelines for Appointment of Statutory Central Auditors (SCAs)/ Statutory Auditors (SAs) of Commercial Banks (excluding RRBs), UCBs and NBFCs (including HFCs) dated April 27, 2021 (“Guidelines”) issued by the Reserve Bank of India (RBI) including any amendments, modifications, variations or re-enactments thereof (collectively “Applicable Laws”) and pursuant to the approval of the RBI dated May 30, 2024, M/s. Batliboi & Purohit, Chartered Accountants, (ICAI Firm Registration No. 101048W) (“Batliboi & Purohit”), who have offered themselves for appointment and have confirmed their eligibility to be appointed as one of the Joint Statutory Auditors in terms of Section 141 of the Act and applicable rules made thereunder and the Guidelines, be and are hereby appointed as one of the Joint Statutory Auditors of the Bank, to hold office for a period of 3 (three) years with effect from FY 2024-25 till and including FY 2026-27, subject to the approval of the RBI as and when required during this tenure, for the purpose of audit including reporting on internal financial controls of the Bank’s accounts at its head office, branches and other offices, with power to the Board of Directors (hereinafter referred to as the “Board”, which term shall be deemed to include any Committee(s) of the Board or any other persons to whom powers are delegated by the Board as permitted under the Act and/or rules made thereunder), to alter and vary the terms and conditions of appointment, and such other things including but not limited to reason of necessity on account of conditions as may be stipulated by the RBI and / or any other authority. 5. To appoint a director in place of Mr. Keki Mistry (DIN: 00008886), who retires by rotation and, being eligible, offers himself for re-appointment. 6. To appoint M/s. Batliboi & Purohit, Chartered Accountants as Joint Statutory Auditors and to fix the overall remuneration of the Joint Statutory Auditors and in this regard, to consider and if thought fit, to pass, the following resolution, as an Ordinary Resolution: “RESOLVED THAT, pursuant to the provisions of Sections 139, 141 and other applicable provisions, if any, of the Companies Act, 2013 (the “Act”) and the relevant RESOLVED FURTHER THAT subject to applicable laws and regulations including the relevant Guidelines and circulars of the RBI (as may be amended, restated, modified or, replaced from time to time) and pursuant to approval of the RBI in this regard received on May 30, 2024, M/s. Price Waterhouse LLP, Chartered Accountants (ICAI Firm Registration No. 301112E/ E300264) (‘Price Waterhouse LLP’) who were already appointed as one of the Joint Statutory Auditors of the Bank at the 28th 0 1\"\"\"\n",
    "\n",
    "# Build and run the chain\n",
    "chain = prompt | llm\n",
    "response = chain.invoke({\"input_text\": input_text})\n",
    "\n",
    "# Output\n",
    "print(response)  # Since response is now a Pydantic model (SummaryOutput), no `.choices[0]` needed\n"
   ]
  },
  {
   "cell_type": "code",
   "execution_count": 3,
   "metadata": {},
   "outputs": [
    {
     "data": {
      "text/plain": [
       "\"HDFC Bank Limited's 30th Annual General Meeting (AGM) will be held on Friday, August 9, 2024, at 02:30 PM IST via video conferencing. Key agenda items include adopting audited financial statements for FY 2024, declaring dividend on equity shares, appointing a director in place of Mr. Bhavesh Zaveri and Mr. Keki Mistry, and appointing M/s. Batliboi & Purohit as Joint Statutory Auditors with an overall remuneration to be determined.\""
      ]
     },
     "execution_count": 3,
     "metadata": {},
     "output_type": "execute_result"
    }
   ],
   "source": [
    "response.summary"
   ]
  },
  {
   "cell_type": "markdown",
   "metadata": {},
   "source": [
    "# Faiss"
   ]
  },
  {
   "cell_type": "code",
   "execution_count": null,
   "metadata": {},
   "outputs": [
    {
     "name": "stderr",
     "output_type": "stream",
     "text": [
      "/Users/namrateshshrivastav/miniconda3/envs/projects/lib/python3.10/site-packages/tqdm/auto.py:21: TqdmWarning: IProgress not found. Please update jupyter and ipywidgets. See https://ipywidgets.readthedocs.io/en/stable/user_install.html\n",
      "  from .autonotebook import tqdm as notebook_tqdm\n"
     ]
    },
    {
     "ename": "KeyError",
     "evalue": "'summary'",
     "output_type": "error",
     "traceback": [
      "\u001b[0;31m---------------------------------------------------------------------------\u001b[0m",
      "\u001b[0;31mKeyError\u001b[0m                                  Traceback (most recent call last)",
      "Cell \u001b[0;32mIn[8], line 11\u001b[0m\n\u001b[1;32m      7\u001b[0m         all_chunks\u001b[38;5;241m.\u001b[39mextend(json\u001b[38;5;241m.\u001b[39mload(f))\n\u001b[1;32m      9\u001b[0m model \u001b[38;5;241m=\u001b[39m SentenceTransformer(\u001b[38;5;124m\"\u001b[39m\u001b[38;5;124mall-MiniLM-L6-v2\u001b[39m\u001b[38;5;124m\"\u001b[39m)\n\u001b[0;32m---> 11\u001b[0m texts \u001b[38;5;241m=\u001b[39m [chunk[\u001b[38;5;124m\"\u001b[39m\u001b[38;5;124msummary\u001b[39m\u001b[38;5;124m\"\u001b[39m] \u001b[38;5;28;01mfor\u001b[39;00m chunk \u001b[38;5;129;01min\u001b[39;00m all_chunks]\n\u001b[1;32m     12\u001b[0m metas \u001b[38;5;241m=\u001b[39m all_chunks\n\u001b[1;32m     14\u001b[0m embeddings \u001b[38;5;241m=\u001b[39m model\u001b[38;5;241m.\u001b[39mencode(texts, show_progress_bar\u001b[38;5;241m=\u001b[39m\u001b[38;5;28;01mTrue\u001b[39;00m)\n",
      "Cell \u001b[0;32mIn[8], line 11\u001b[0m, in \u001b[0;36m<listcomp>\u001b[0;34m(.0)\u001b[0m\n\u001b[1;32m      7\u001b[0m         all_chunks\u001b[38;5;241m.\u001b[39mextend(json\u001b[38;5;241m.\u001b[39mload(f))\n\u001b[1;32m      9\u001b[0m model \u001b[38;5;241m=\u001b[39m SentenceTransformer(\u001b[38;5;124m\"\u001b[39m\u001b[38;5;124mall-MiniLM-L6-v2\u001b[39m\u001b[38;5;124m\"\u001b[39m)\n\u001b[0;32m---> 11\u001b[0m texts \u001b[38;5;241m=\u001b[39m [\u001b[43mchunk\u001b[49m\u001b[43m[\u001b[49m\u001b[38;5;124;43m\"\u001b[39;49m\u001b[38;5;124;43msummary\u001b[39;49m\u001b[38;5;124;43m\"\u001b[39;49m\u001b[43m]\u001b[49m \u001b[38;5;28;01mfor\u001b[39;00m chunk \u001b[38;5;129;01min\u001b[39;00m all_chunks]\n\u001b[1;32m     12\u001b[0m metas \u001b[38;5;241m=\u001b[39m all_chunks\n\u001b[1;32m     14\u001b[0m embeddings \u001b[38;5;241m=\u001b[39m model\u001b[38;5;241m.\u001b[39mencode(texts, show_progress_bar\u001b[38;5;241m=\u001b[39m\u001b[38;5;28;01mTrue\u001b[39;00m)\n",
      "\u001b[0;31mKeyError\u001b[0m: 'summary'"
     ]
    }
   ],
   "source": [
    "from sentence_transformers import SentenceTransformer\n",
    "import faiss, pickle\n",
    "datasets = [os.path.join(dataset_path, i) for i in os.listdir(dataset_path) if i.endswith(\".json\")]\n",
    "all_chunks = []\n",
    "for fpath in datasets:\n",
    "    with open(fpath) as f:\n",
    "        all_chunks.extend(json.load(f))\n",
    "\n",
    "model = SentenceTransformer(\"all-MiniLM-L6-v2\")\n",
    "\n",
    "texts = [chunk[\"summarized\"] for chunk in all_chunks]\n",
    "metas = all_chunks\n",
    "\n",
    "embeddings = model.encode(texts, show_progress_bar=True)\n",
    "\n",
    "index = faiss.IndexFlatL2(embeddings.shape[1])\n",
    "index.add(embeddings)\n",
    "\n",
    "faiss.write_index(index, \"vector_db/financial.index\")\n",
    "with open(\"vector_db/financial_meta.pkl\", \"wb\") as f:\n",
    "    pickle.dump(metas, f)\n"
   ]
  },
  {
   "cell_type": "code",
   "execution_count": null,
   "metadata": {},
   "outputs": [],
   "source": [
    "from pinecone import Pinecone\n",
    "\n",
    "pc = Pinecone(api_key=os.getenv(\"pincone_api\"))\n",
    "index = pc.Index(\"financial-rag\")"
   ]
  },
  {
   "cell_type": "code",
   "execution_count": 37,
   "metadata": {},
   "outputs": [
    {
     "name": "stdout",
     "output_type": "stream",
     "text": [
      "[]\n",
      "Index 'financial-rag' not found. Creating index...\n",
      "Index 'financial-rag' created successfully.\n"
     ]
    },
    {
     "name": "stderr",
     "output_type": "stream",
     "text": [
      "100%|██████████| 1557/1557 [00:19<00:00, 80.13it/s]\n"
     ]
    },
    {
     "name": "stdout",
     "output_type": "stream",
     "text": [
      "Upserted 100/1557 vectors into Pinecone\n",
      "Upserted 200/1557 vectors into Pinecone\n",
      "Upserted 300/1557 vectors into Pinecone\n",
      "Upserted 400/1557 vectors into Pinecone\n",
      "Upserted 500/1557 vectors into Pinecone\n",
      "Upserted 600/1557 vectors into Pinecone\n",
      "Upserted 700/1557 vectors into Pinecone\n",
      "Upserted 800/1557 vectors into Pinecone\n",
      "Upserted 900/1557 vectors into Pinecone\n",
      "Upserted 1000/1557 vectors into Pinecone\n",
      "Upserted 1100/1557 vectors into Pinecone\n",
      "Upserted 1200/1557 vectors into Pinecone\n",
      "Upserted 1300/1557 vectors into Pinecone\n",
      "Upserted 1400/1557 vectors into Pinecone\n",
      "Upserted 1500/1557 vectors into Pinecone\n",
      "Upserted 1557/1557 vectors into Pinecone\n"
     ]
    }
   ],
   "source": [
    "from pinecone import Pinecone\n",
    "import pinecone\n",
    "from sentence_transformers import SentenceTransformer\n",
    "import uuid\n",
    "import logging\n",
    "from typing import List, Dict\n",
    "import os\n",
    "import json\n",
    "\n",
    "dataset_path = \"dataset/json\"\n",
    "datasets = [os.path.join(dataset_path, i) for i in os.listdir(dataset_path) if i.endswith(\".json\")]\n",
    "all_chunks = []\n",
    "for fpath in datasets:\n",
    "    with open(fpath) as f:\n",
    "        all_chunks.extend(json.load(f))\n",
    "\n",
    "pc = Pinecone(api_key=os.getenv(\"pincone_api\"), host = os.getenv(\"pincone_host\"))\n",
    "\n",
    "def create_index_if_not_exists(index_name: str, dimension: int):\n",
    "    # Check if the index exists and create it if not\n",
    "    if index_name not in pc.list_indexes():\n",
    "        print(f\"Index '{index_name}' not found. Creating index...\")\n",
    "        pc.create_index(\n",
    "    name=index_name,\n",
    "    dimension=384,\n",
    "    metric=\"cosine\",\n",
    "    spec={\n",
    "        \"serverless\": {\n",
    "            \"cloud\": \"aws\",\n",
    "            \"region\": \"us-east-1\"\n",
    "        }\n",
    "    }\n",
    ")\n",
    "        print(f\"Index '{index_name}' created successfully.\")\n",
    "    else:\n",
    "        print(f\"Index '{index_name}' already exists.\")\n",
    "\n",
    "\n",
    "\n",
    "def upsert_to_pinecone(\n",
    "    chunks: List[Dict],\n",
    "\n",
    "    index_name: str = \"financial-rag\",\n",
    "    embedding_model_name: str = \"all-MiniLM-L6-v2\"\n",
    ") -> None:\n",
    "    \"\"\"\n",
    "    Embeds and upserts chunked data to Pinecone with metadata.\n",
    "\n",
    "    Args:\n",
    "        chunks (List[Dict]): List of dicts with keys like 'company', 'year', 'page', 'summary', and 'clean_content'.\n",
    "        pinecone_api_key (str): Your Pinecone API key.\n",
    "        pinecone_env (str): Your Pinecone environment region (e.g., \"gcp-starter\").\n",
    "        index_name (str): Name of the Pinecone index to use (default: \"financial-rag\").\n",
    "        embedding_model_name (str): Sentence transformer model to use for embedding (default: MiniLM).\n",
    "\n",
    "    Returns:\n",
    "        None\n",
    "    \"\"\"\n",
    "\n",
    "    try:\n",
    "        print(pc.list_indexes())\n",
    "        # Load index\n",
    "            # First, ensure the index exists\n",
    "        create_index_if_not_exists(index_name, dimension=348)  # Match the dimension of the embedding model\n",
    "\n",
    "\n",
    "        index = pc.Index(index_name)\n",
    "\n",
    "        # Load model\n",
    "        model = SentenceTransformer(embedding_model_name)\n",
    "\n",
    "        vectors = []\n",
    "        for chunk in tqdm(chunks):\n",
    "            try:\n",
    "                vector = model.encode(chunk[\"summarized\"]).tolist()\n",
    "\n",
    "                metadata = {\n",
    "                    \"company\": chunk.get(\"company\", chunk['company']),\n",
    "                    \"year\": chunk.get(\"year\", chunk['year']),\n",
    "                    \"page\": chunk.get(\"page\",chunk['page_num']),\n",
    "                    \"summarized\": chunk.get(\"summarized\", \"\"),\n",
    "                    \"content\": chunk.get(\"clean_content\", \"\")\n",
    "                }\n",
    "\n",
    "                vectors.append((str(uuid.uuid4()), vector, metadata))\n",
    "            except Exception as e:\n",
    "                print(f\"Failed to process chunk on page {chunk.get('page', '?')}: {e}\")\n",
    "\n",
    "        # Batch upsert (in chunks of 100 for large datasets)\n",
    "        batch_size = 100\n",
    "        for i in range(0, len(vectors), batch_size):\n",
    "            batch = vectors[i:i + batch_size]\n",
    "            index.upsert(vectors=batch)\n",
    "            print(f\"Upserted {i + len(batch)}/{len(vectors)} vectors into Pinecone\")\n",
    "\n",
    "        logging.info(\"✅ All vectors successfully upserted into Pinecone.\")\n",
    "\n",
    "    except Exception as e:\n",
    "        print(f\"❌ Pinecone upsert failed: {e}\")\n",
    "        raise e\n",
    "\n",
    "upsert_to_pinecone(all_chunks)"
   ]
  },
  {
   "cell_type": "code",
   "execution_count": null,
   "metadata": {},
   "outputs": [],
   "source": [
    "from  pinecone import Pinecone\n",
    "from sentence_transformers import SentenceTransformer\n",
    "from typing import List, Dict\n",
    "import os\n",
    "pc = Pinecone(api_key=os.getenv(\"pincone_api\"), host = os.getenv(\"pincone_host\"))\n",
    "def query_pinecone(\n",
    "    query: str,\n",
    "    index_name: str = \"financial-rag\",\n",
    "    top_k: int = 5,\n",
    "    filter_by: Dict = None,\n",
    "    embedding_model: str = \"all-MiniLM-L6-v2\"\n",
    ") -> List[Dict]:\n",
    "    \"\"\"\n",
    "    Query Pinecone vector DB using semantic similarity and optional filters.\n",
    "\n",
    "    Args:\n",
    "        query (str): User's natural language question.\n",
    "        api_key (str): Pinecone API key.\n",
    "        host (str): Pinecone serverless host URL.\n",
    "        index_name (str): Pinecone index name.\n",
    "        top_k (int): Number of results to retrieve.\n",
    "        filter_by (Dict): Optional metadata filter (e.g., {\"company\": \"HDFC\", \"year\": \"2023-2024\"}).\n",
    "        embedding_model (str): SentenceTransformer model to use.\n",
    "\n",
    "    Returns:\n",
    "        List[Dict]: Retrieved results with metadata and similarity score.\n",
    "    \"\"\"\n",
    "\n",
    "    try:\n",
    "        # Initialize Pinecone\n",
    "        \n",
    "        index = pc.Index(index_name)\n",
    "\n",
    "        # Load embedding model\n",
    "        model = SentenceTransformer(embedding_model)\n",
    "        query_vector = model.encode(query).tolist()\n",
    "\n",
    "        # Build query payload\n",
    "        query_args = {\n",
    "            \"vector\": query_vector,\n",
    "            \"top_k\": top_k,\n",
    "            \"include_metadata\": True\n",
    "        }\n",
    "        if filter_by:\n",
    "            query_args[\"filter\"] = filter_by\n",
    "\n",
    "        # Execute query\n",
    "        results = index.query(**query_args)\n",
    "\n",
    "        return results.get(\"matches\", [])\n",
    "\n",
    "    except Exception as e:\n",
    "        print(f\"❌ Query failed: {e}\")\n",
    "        return []"
   ]
  },
  {
   "cell_type": "code",
   "execution_count": 39,
   "metadata": {},
   "outputs": [
    {
     "name": "stdout",
     "output_type": "stream",
     "text": [
      "\n",
      "✅ Match | Score: 0.681\n",
      "Company: sbi, Year: 2024.0, Page: 320.0\n",
      "Snippet:\n",
      "Company Overview Responsible Approach Governance Statutory Reports Financial Statements (e) Common Equity Tier 1, Tier 1 and Total Capital Ratios: For the top consolidated group; and For significant bank subsidiaries (stand alone or sub-consolidated depending on how the Framework is applied) Capital adequacy ratios as on 31st March 2024 CET 1 (%) Tier 1 (%) Total (%) SBI Group 10.57 12.06 14.38 State Bank of India 10.36 11.93 14.28 SBI (Mauritius) Ltd. 19.24 19.24 20.28 State Bank of India (Cana...\n",
      "\n",
      "✅ Match | Score: 0.596\n",
      "Company: sbi, Year: 2024.0, Page: 400.0\n",
      "Snippet:\n",
      "SBI’s Economic Performance FY 24 (INR Crore) FY 23 (INR Crore) FY 22 (INR Crore) Payments to government (net cash outgo on amount of corporate income tax) 25,173 12,677 3,529 Community investment Total economic value distributed 1,55,663 1,20,821 96,049 Economic value retained Total economic value retained 3,11,150 2,47,898 2,19,972 Bank’s Financial Highlights for FY24 Particulars Domestic offices (INR crore) YoY growth (%) Foreign offices (INR Crore) Y-o-y growth (%) Advances 31,65,998 16.89 5,...\n",
      "\n",
      "✅ Match | Score: 0.586\n",
      "Company: sbi, Year: 2024.0, Page: 441.0\n",
      "Snippet:\n",
      "22. Turnover rate for permanent employees and workers (Disclose trends for the past 3 years) FY 2024 S. No. Male Female Total Male FY 2023 Female Total Male FY 2022 Female Total S. No. Name of the holding/ subsidiary/ associate companies/ joint ventures (A) Indicate whether holding/ Subsidiary/ Associate/ Joint Venture % of shares held by listed entity Does the entity indicated at column A, participate in the Business Responsibility initiatives of the listed entity? (Yes/No) Permanent Employees ...\n",
      "\n",
      "✅ Match | Score: 0.574\n",
      "Company: sbi, Year: 2024.0, Page: 136.0\n",
      "Snippet:\n",
      "Company Overview Responsible Approach Governance Statutory Reports Financial Statements Phone Numbers : 011 42541234, 7290071335 E-mail address Address for Correspondence : SBI, Shares & Bonds Department, Corporate Centre, 14th Floor, State Bank Bhavan, Madame Cama Road, Nariman : sbi.igr@alankit.com Point, Mumbai 400 021. Telephone Numbers : (022) 22740841 to 22740848 Fax : (022) 2285 5348 E-mail Address : investor.complaints@sbi.co.in / dgm.snb@sbi.co.in Name of the debenture trustees with ful...\n",
      "\n",
      "✅ Match | Score: 0.567\n",
      "Company: sbi, Year: 2024.0, Page: 186.0\n",
      "Snippet:\n",
      "Company Overview Responsible Approach Governance Statutory Reports Financial Statements b. Drawdown from Reserves: In terms of RBI Circular No: DBR.No.BP.BC.102/21.04.048/2017-18 dated 2nd April 2018, H749.08 Crore has been drawn down from Investment Fluctuation Reserve as it was in excess of 2 percent of HFT and AFS portfolio. c. Innovative Perpetual Debt Instruments (IPDI): The details of IPDI issued which qualify for Hybrid Tier I Capital and outstanding are as under: Sr. No. Nature of Bonds ...\n"
     ]
    }
   ],
   "source": [
    "\n",
    "query = \"What is SBI’s capital adequacy ratio in 2024?\"\n",
    "data = query_pinecone(query=query)\n",
    "for r in data:\n",
    "    print(f\"\\n✅ Match | Score: {r['score']:.3f}\")\n",
    "    print(f\"Company: {r['metadata']['company']}, Year: {r['metadata']['year']}, Page: {r['metadata']['page']}\")\n",
    "    print(f\"Snippet:\\n{r['metadata']['content'][:500]}...\")"
   ]
  },
  {
   "cell_type": "code",
   "execution_count": 42,
   "metadata": {},
   "outputs": [
    {
     "name": "stdout",
     "output_type": "stream",
     "text": [
      "\n",
      "✅ Match | Score: 0.683\n",
      "Company: HDFC, Year: 2024.0, Page: 542.0\n",
      "Snippet:\n",
      "Overview Introduction Our Performance How We Create Value Our Strategy Responsible Business Statutory Reports and Financial Statements 41,05,375 folios comprising of 758,92,48,751 equity shares forming 99. 90% of the share capital are in demat form. 16,440 folios comprising of 76,61,911 equity shares forming 0.10 % of the share capital are in physical form. The shares of the Bank are widely traded on the stock exchanges. SHARES LYING ACCOUNT Particulars IN UNCLAIMED SUSPENSE Records / No. of sha...\n",
      "\n",
      "✅ Match | Score: 0.682\n",
      "Company: HDFC, Year: 2024.0, Page: 272.0\n",
      "Snippet:\n",
      "Overview Introduction Our Performance How We Create Value Our Strategy Responsible Business Statutory Reports and Financial Statements During the year ended March 31, 2024, the fees paid to the Joint Statutory Auditor(s) and their respective network firms on aggregated basis are as follows: (` In crores) Fees (excluding taxes)* Statutory Audit Certification & other audit / attestation services Non-audit services Outlays Total HDFC Bank to joint statutory auditor(s) 9.00 6.82 0.40 16.22 Subsidiar...\n",
      "\n",
      "✅ Match | Score: 0.676\n",
      "Company: HDFC, Year: 2024.0, Page: 297.0\n",
      "Snippet:\n",
      "3. Pursuant to the Scheme 1,47,57,600 warrants issued by HDFC Limited were transferred in the name of the Bank. Further, such warrants were converted into equity shares of the Bank on maturity and the Bank has issued and allotted 2,47,75,632 Equity Shares of Re. 1 each of the Bank pursuant to exercise of warrants. 7. The Bank has issued and allotted 7.71% Unsecured, Redeemable, Long Term, Fully Paid up, Non-Convertible Bonds in the Nature of Debentures for enhancing long term resources for fundi...\n",
      "\n",
      "✅ Match | Score: 0.666\n",
      "Company: HDFC, Year: 2024.0, Page: 506.0\n",
      "Snippet:\n",
      "Overview Introduction Our Performance How We Create Value Our Strategy Responsible Business Statutory Reports and Financial Statements (` crore) Name of entity Net assets as of March 31, 2023 Profit or (loss) for the year ended March 31, 2023 As % of consolidated net assets** Amount As % of consolidated profit or loss Amount Parent: HDFC Bank Limited 96.52% 280,199.01 95.58% 44,108.71 Subsidiaries: HDB Financial Services Limited* 4.08% 11,857.72 4.54% 2,093.94 HDFC Securities Limited* 0.60% 1,74...\n",
      "\n",
      "✅ Match | Score: 0.650\n",
      "Company: HDFC, Year: 2024.0, Page: 397.0\n",
      "Snippet:\n",
      "23. Other income Commission, exchange and brokerage income Commission, exchange and brokerage income is presented net of related commission expenses. Profit on sale of investment During the current year, in order to comply with the condition imposed by the RBI in relation to the Scheme, the Bank sold 14,01,72,180 equity shares of HDFC Credila Financial Services Ltd (‘HDFC Credila’), for a consideration of ` 9,552.73 crore, resulting in a gain of ` 7,341.42 crore. Consequent to the aforesaid sale...\n"
     ]
    }
   ],
   "source": [
    "\n",
    "query = \"How much  equity shares  paid to employees paid by HDFC in 2024?\"\n",
    "data = query_pinecone(query=query)\n",
    "for r in data:\n",
    "    print(f\"\\n✅ Match | Score: {r['score']:.3f}\")\n",
    "    print(f\"Company: {r['metadata']['company']}, Year: {r['metadata']['year']}, Page: {r['metadata']['page']}\")\n",
    "    print(f\"Snippet:\\n{r['metadata']['content'][:500]}...\")"
   ]
  },
  {
   "cell_type": "code",
   "execution_count": 41,
   "metadata": {},
   "outputs": [
    {
     "name": "stdout",
     "output_type": "stream",
     "text": [
      "\n",
      "✅ Match | Score: 0.747\n",
      "Company: HDFC, Year: 2024.0, Page: 20.0\n",
      "Snippet:\n",
      "service, future potential contribution and conduct of the employee and such other relevant factors as may be deemed appropriate by it. holders to subscribe to an aggregate of 9,50,00,000 (Nine Crore and Fifty Lakhs) fully paid-up equity shares of Bank of the face value of ` 1/- (Rupee One) each. I. MAXIMUM NUMBER OF ESOPs TO BE OFFERED / ISSUED PER EMPLOYEE AND IN AGGREGATE Maximum of 9,50,00,000 (Nine Crore and Fifty Lakhs) ESOPs or such adjusted numbers for any bonus issues of Equity Shares or...\n",
      "\n",
      "✅ Match | Score: 0.673\n",
      "Company: HDFC, Year: 2024.0, Page: 21.0\n",
      "Snippet:\n",
      "Employees, or as per the code of conduct of the Bank or as per the employment contracts/terms, in accordance with the RBI Guidelines on Compensation of Whole Time Directors / Chief Executive Officers / Material Risk Takers and Control Function Staff dated November 4, 2019, as may be amended, replaced, substituted, restated from time to time. Mr. Sashidhar Jagdishan, Managing Director & Chief Executive Officer, Mr. Kaizad Bharucha, Deputy Managing Director, Mr. Bhavesh Zaveri, Executive Director,...\n",
      "\n",
      "✅ Match | Score: 0.618\n",
      "Company: icici, Year: 2024.0, Page: 381.0\n",
      "Snippet:\n",
      "3. Employee Stock Option Scheme (ESOS)/Employees Stock Unit Scheme - 2022 (ESUS 2022) ICICI Bank: In terms of the ESOS, as amended, the maximum number of options granted to any eligible employee in a financial year shall not exceed 0.05% of the issued equity shares of the Bank at the time of grant of the options and aggregate of all such options granted to the eligible employees shall not exceed 10.0% of the aggregate number of the issued equity shares of the Bank on the date(s) of the grant of ...\n",
      "\n",
      "✅ Match | Score: 0.553\n",
      "Company: HDFC, Year: 2024.0, Page: 4.0\n",
      "Snippet:\n",
      "8. To grant equity stock options under Employees Stock Option Master Scheme - 2024 and in this regard to consider, and if thought fit, to pass, the following resolution as a Special Resolution: “RESOLVED THAT pursuant to provisions of Section 62(1) (b) and other applicable provisions, if any, of the Companies Act, 2013 (the “Act”) read with rules framed thereunder, the Accounting Standards prescribed by the Ministry of Corporate Affairs, the Securities and Exchange Board of India (SEBI) (Share B...\n",
      "\n",
      "✅ Match | Score: 0.551\n",
      "Company: HDFC, Year: 2024.0, Page: 483.0\n",
      "Snippet:\n",
      "Particulars Number of options Weighted average exercise price (`) Number of options Weighted average exercise price (`) ESOS 2019 (15-03-2022) ESOS 2022 (20-10-2022) Options outstanding as at July 01, 2023 2,94,313 512.45 1,03,74,109 531.55 Granted during the period Exercised during the period 4,71,699 531.55 Forfeited / lapsed during the period 1,85,000 531.55 Options outstanding at the end of the year 2,94,313 512.45 97,17,410 531.55 Options exercisable 2,94,313 512.45 25,55,034 531.55 Particu...\n"
     ]
    }
   ],
   "source": [
    "\n",
    "query = \"Bank of announces ESOS 2024 plan to issue up to 9,50,00,000 fully paid-up equit ?\"\n",
    "data = query_pinecone(query=query)\n",
    "for r in data:\n",
    "    print(f\"\\n✅ Match | Score: {r['score']:.3f}\")\n",
    "    print(f\"Company: {r['metadata']['company']}, Year: {r['metadata']['year']}, Page: {r['metadata']['page']}\")\n",
    "    print(f\"Snippet:\\n{r['metadata']['content'][:500]}...\")"
   ]
  },
  {
   "cell_type": "code",
   "execution_count": null,
   "metadata": {},
   "outputs": [],
   "source": []
  }
 ],
 "metadata": {
  "kernelspec": {
   "display_name": "projects",
   "language": "python",
   "name": "python3"
  },
  "language_info": {
   "codemirror_mode": {
    "name": "ipython",
    "version": 3
   },
   "file_extension": ".py",
   "mimetype": "text/x-python",
   "name": "python",
   "nbconvert_exporter": "python",
   "pygments_lexer": "ipython3",
   "version": "3.10.16"
  }
 },
 "nbformat": 4,
 "nbformat_minor": 2
}
